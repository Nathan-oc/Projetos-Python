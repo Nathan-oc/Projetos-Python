{
  "cells": [
    {
      "cell_type": "markdown",
      "metadata": {
        "id": "view-in-github",
        "colab_type": "text"
      },
      "source": [
        "<a href=\"https://colab.research.google.com/github/Nathan-oc/Projetos-Python/blob/main/Anki_Audio.ipynb\" target=\"_parent\"><img src=\"https://colab.research.google.com/assets/colab-badge.svg\" alt=\"Open In Colab\"/></a>"
      ]
    },
    {
      "cell_type": "markdown",
      "id": "0818069e-c5ed-40d2-bef4-44554f0ee31c",
      "metadata": {
        "id": "0818069e-c5ed-40d2-bef4-44554f0ee31c"
      },
      "source": [
        "# Introdução\n",
        "\n",
        "Neste notebook, apresentaremos um programa que tem como objetivo auxiliar a geração de áudio para as frases em inglês transcritas no Anki, um software utilizado para aprendizagem de idiomas. Sabemos que a audição é um dos aspectos mais importantes no aprendizado de um novo idioma, e por isso, ter a possibilidade de escutar a pronúncia correta das palavras pode ser extremamente útil para o aprendizado.\n",
        "\n",
        "No entanto, a geração manual de áudio para todas as frases do Anki pode ser uma tarefa cansativa e demorada, ainda mais se houver uma quantidade grande de cards. Por isso, decidimos desenvolver este programa para automatizar o processo e torná-lo mais eficiente.\n",
        "\n",
        "É importante mencionar que a abordagem utilizada neste programa é bastante rudimentar, já que não encontramos maneiras automatizadas de executar comandos no Anki sem utilizar o mouse. Por isso, utilizaremos comandos que simulam a ação do mouse para executar as tarefas necessárias. Embora não seja a solução ideal, acreditamos que essa abordagem pode ser bastante útil para quem precisa gerar áudio para um grande número de frases no Anki."
      ]
    },
    {
      "cell_type": "markdown",
      "id": "861332b6-0a1a-4c31-9aeb-e1864418eb19",
      "metadata": {
        "id": "861332b6-0a1a-4c31-9aeb-e1864418eb19"
      },
      "source": [
        "# Importação de bibliotecas\n",
        "\n",
        "Para a implementação deste programa foram utilizadas três bibliotecas: time, pyautogui e numpy. A biblioteca time foi utilizada para incluir pausas no programa, a fim de garantir que cada ação executada pelo pyautogui tenha tempo suficiente para ser concluída. Já a biblioteca pyautogui foi utilizada para controlar o mouse do computador e simular cliques em determinados pontos da tela. A biblioteca numpy, por sua vez, foi utilizada para gerar números aleatórios, o que foi útil em uma etapa do programa."
      ]
    },
    {
      "cell_type": "code",
      "execution_count": null,
      "id": "be36b442-6872-4354-bde8-65e6ff17f301",
      "metadata": {
        "id": "be36b442-6872-4354-bde8-65e6ff17f301"
      },
      "outputs": [],
      "source": [
        "import time\n",
        "import pyautogui\n",
        "import numpy as np"
      ]
    },
    {
      "cell_type": "markdown",
      "id": "12dee1e2-a61f-4932-a7d9-7ec858d4217f",
      "metadata": {
        "id": "12dee1e2-a61f-4932-a7d9-7ec858d4217f"
      },
      "source": [
        "# Execução do programa\n",
        "\n",
        "Antes de executar o programa, é necessário definir as posições dos objetos que devem ser clicados no Anki. Essas posições são arbitrárias e podem variar de acordo com o tamanho da tela e a posição do aplicativo.\n",
        "\n",
        "Após definir as posições dos objetos, o programa pode ser executado. O processo de execução consiste em selecionar um card no Anki, clicar no ícone de áudio para gerar o áudio da frase em inglês e, em seguida, transcrever a frase para um arquivo de áudio utilizando um add-on instalado no Anki. Esse processo é repetido para todos os cards presentes no deck.\n",
        "\n",
        "Por ser uma forma rudimentar de realizar essa tarefa, é necessário que o usuário monitore a execução do programa e realize ajustes caso ocorram erros durante o processo."
      ]
    },
    {
      "cell_type": "code",
      "execution_count": null,
      "id": "696b2277-97f4-4282-a2b8-c7363c2f2f59",
      "metadata": {
        "id": "696b2277-97f4-4282-a2b8-c7363c2f2f59",
        "outputId": "a3c8fd9d-4a91-4b1c-bf2c-0806de627076"
      },
      "outputs": [
        {
          "ename": "FailSafeException",
          "evalue": "PyAutoGUI fail-safe triggered from mouse moving to a corner of the screen. To disable this fail-safe, set pyautogui.FAILSAFE to False. DISABLING FAIL-SAFE IS NOT RECOMMENDED.",
          "output_type": "error",
          "traceback": [
            "\u001b[1;31m---------------------------------------------------------------------------\u001b[0m",
            "\u001b[1;31mFailSafeException\u001b[0m                         Traceback (most recent call last)",
            "\u001b[1;32m~\\AppData\\Local\\Temp\\ipykernel_5132\\117683107.py\u001b[0m in \u001b[0;36m<module>\u001b[1;34m\u001b[0m\n\u001b[0;32m     59\u001b[0m     \u001b[0mtime\u001b[0m\u001b[1;33m.\u001b[0m\u001b[0msleep\u001b[0m\u001b[1;33m(\u001b[0m\u001b[1;36m4\u001b[0m\u001b[1;33m)\u001b[0m\u001b[1;33m\u001b[0m\u001b[1;33m\u001b[0m\u001b[0m\n\u001b[0;32m     60\u001b[0m \u001b[1;33m\u001b[0m\u001b[0m\n\u001b[1;32m---> 61\u001b[1;33m     \u001b[0mpyautogui\u001b[0m\u001b[1;33m.\u001b[0m\u001b[0mmoveTo\u001b[0m\u001b[1;33m(\u001b[0m\u001b[1;36m850\u001b[0m\u001b[1;33m,\u001b[0m \u001b[1;36m400\u001b[0m\u001b[1;33m,\u001b[0m \u001b[0mduration\u001b[0m\u001b[1;33m=\u001b[0m\u001b[1;36m0.2\u001b[0m\u001b[1;33m)\u001b[0m\u001b[1;33m\u001b[0m\u001b[1;33m\u001b[0m\u001b[0m\n\u001b[0m\u001b[0;32m     62\u001b[0m     \u001b[0mtime\u001b[0m\u001b[1;33m.\u001b[0m\u001b[0msleep\u001b[0m\u001b[1;33m(\u001b[0m\u001b[1;36m0.1\u001b[0m\u001b[1;33m)\u001b[0m\u001b[1;33m\u001b[0m\u001b[1;33m\u001b[0m\u001b[0m\n\u001b[0;32m     63\u001b[0m     \u001b[0mpyautogui\u001b[0m\u001b[1;33m.\u001b[0m\u001b[0mclick\u001b[0m\u001b[1;33m(\u001b[0m\u001b[0mbutton\u001b[0m\u001b[1;33m=\u001b[0m\u001b[1;34m'left'\u001b[0m\u001b[1;33m)\u001b[0m\u001b[1;33m\u001b[0m\u001b[1;33m\u001b[0m\u001b[0m\n",
            "\u001b[1;32m~\\anaconda3\\lib\\site-packages\\pyautogui\\__init__.py\u001b[0m in \u001b[0;36mwrapper\u001b[1;34m(*args, **kwargs)\u001b[0m\n\u001b[0;32m    595\u001b[0m     \u001b[1;33m@\u001b[0m\u001b[0mfunctools\u001b[0m\u001b[1;33m.\u001b[0m\u001b[0mwraps\u001b[0m\u001b[1;33m(\u001b[0m\u001b[0mwrappedFunction\u001b[0m\u001b[1;33m)\u001b[0m\u001b[1;33m\u001b[0m\u001b[1;33m\u001b[0m\u001b[0m\n\u001b[0;32m    596\u001b[0m     \u001b[1;32mdef\u001b[0m \u001b[0mwrapper\u001b[0m\u001b[1;33m(\u001b[0m\u001b[1;33m*\u001b[0m\u001b[0margs\u001b[0m\u001b[1;33m,\u001b[0m \u001b[1;33m**\u001b[0m\u001b[0mkwargs\u001b[0m\u001b[1;33m)\u001b[0m\u001b[1;33m:\u001b[0m\u001b[1;33m\u001b[0m\u001b[1;33m\u001b[0m\u001b[0m\n\u001b[1;32m--> 597\u001b[1;33m         \u001b[0mfailSafeCheck\u001b[0m\u001b[1;33m(\u001b[0m\u001b[1;33m)\u001b[0m\u001b[1;33m\u001b[0m\u001b[1;33m\u001b[0m\u001b[0m\n\u001b[0m\u001b[0;32m    598\u001b[0m         \u001b[0mreturnVal\u001b[0m \u001b[1;33m=\u001b[0m \u001b[0mwrappedFunction\u001b[0m\u001b[1;33m(\u001b[0m\u001b[1;33m*\u001b[0m\u001b[0margs\u001b[0m\u001b[1;33m,\u001b[0m \u001b[1;33m**\u001b[0m\u001b[0mkwargs\u001b[0m\u001b[1;33m)\u001b[0m\u001b[1;33m\u001b[0m\u001b[1;33m\u001b[0m\u001b[0m\n\u001b[0;32m    599\u001b[0m         \u001b[0m_handlePause\u001b[0m\u001b[1;33m(\u001b[0m\u001b[0mkwargs\u001b[0m\u001b[1;33m.\u001b[0m\u001b[0mget\u001b[0m\u001b[1;33m(\u001b[0m\u001b[1;34m\"_pause\"\u001b[0m\u001b[1;33m,\u001b[0m \u001b[1;32mTrue\u001b[0m\u001b[1;33m)\u001b[0m\u001b[1;33m)\u001b[0m\u001b[1;33m\u001b[0m\u001b[1;33m\u001b[0m\u001b[0m\n",
            "\u001b[1;32m~\\anaconda3\\lib\\site-packages\\pyautogui\\__init__.py\u001b[0m in \u001b[0;36mfailSafeCheck\u001b[1;34m()\u001b[0m\n\u001b[0;32m   1720\u001b[0m \u001b[1;32mdef\u001b[0m \u001b[0mfailSafeCheck\u001b[0m\u001b[1;33m(\u001b[0m\u001b[1;33m)\u001b[0m\u001b[1;33m:\u001b[0m\u001b[1;33m\u001b[0m\u001b[1;33m\u001b[0m\u001b[0m\n\u001b[0;32m   1721\u001b[0m     \u001b[1;32mif\u001b[0m \u001b[0mFAILSAFE\u001b[0m \u001b[1;32mand\u001b[0m \u001b[0mtuple\u001b[0m\u001b[1;33m(\u001b[0m\u001b[0mposition\u001b[0m\u001b[1;33m(\u001b[0m\u001b[1;33m)\u001b[0m\u001b[1;33m)\u001b[0m \u001b[1;32min\u001b[0m \u001b[0mFAILSAFE_POINTS\u001b[0m\u001b[1;33m:\u001b[0m\u001b[1;33m\u001b[0m\u001b[1;33m\u001b[0m\u001b[0m\n\u001b[1;32m-> 1722\u001b[1;33m         raise FailSafeException(\n\u001b[0m\u001b[0;32m   1723\u001b[0m             \u001b[1;34m\"PyAutoGUI fail-safe triggered from mouse moving to a corner of the screen. To disable this fail-safe, set pyautogui.FAILSAFE to False. DISABLING FAIL-SAFE IS NOT RECOMMENDED.\"\u001b[0m\u001b[1;33m\u001b[0m\u001b[1;33m\u001b[0m\u001b[0m\n\u001b[0;32m   1724\u001b[0m         )\n",
            "\u001b[1;31mFailSafeException\u001b[0m: PyAutoGUI fail-safe triggered from mouse moving to a corner of the screen. To disable this fail-safe, set pyautogui.FAILSAFE to False. DISABLING FAIL-SAFE IS NOT RECOMMENDED."
          ]
        }
      ],
      "source": [
        "# Clicar no app do anki na barra de tarefas\n",
        "pyautogui.moveTo(650, 750, duration=0.2)\n",
        "time.sleep(0.1)\n",
        "pyautogui.click(button='left')\n",
        "time.sleep(1)\n",
        "\n",
        "# Clicar na segunda aba aberta do anki\n",
        "pyautogui.moveTo(690, 700, duration=0.2)\n",
        "time.sleep(0.2)\n",
        "pyautogui.click(button='left')\n",
        "time.sleep(1)\n",
        "\n",
        "i = 1\n",
        "\n",
        "# Loop para cada frase\n",
        "while True:\n",
        "        \n",
        "    # Clicar na ultima frase\n",
        "    pyautogui.moveTo(660, 710, duration=0.2)\n",
        "    time.sleep(0.1)\n",
        "    pyautogui.click(button='left')\n",
        "    time.sleep(1.2)\n",
        "    \n",
        "    # Marcar a frase com a cor vermelha, indicando que possui áudio\n",
        "    pyautogui.hotkey('ctrl', '4')\n",
        "    time.sleep(0.5)\n",
        "    \n",
        "    # Clicar na frase\n",
        "    pyautogui.moveTo(1140,160, duration=0.2)\n",
        "    time.sleep(0.1)\n",
        "    pyautogui.click(button='left')\n",
        "    time.sleep(0.5)\n",
        "    \n",
        "    # CLicar no add-on de áudio\n",
        "    pyautogui.moveTo(1285,90, duration=0.2)\n",
        "    time.sleep(0.1)\n",
        "    pyautogui.click(button='left')\n",
        "    time.sleep(1.5)\n",
        "    \n",
        "    # Mudar a voz de forma randômico dentro de um range de possibilidades\n",
        "    pyautogui.moveTo(683, 330, duration=0.2)\n",
        "    time.sleep(0.1)\n",
        "    pyautogui.click(button='left')\n",
        "    time.sleep(0.7)\n",
        "    pyautogui.press('f')\n",
        "    time.sleep(0.2)\n",
        "    j = np.random.randint(low=170, high = 235)\n",
        "    pyautogui.moveTo(683 , 330 + j, duration=0.1)\n",
        "    time.sleep(0.1)\n",
        "    pyautogui.click(button='left')\n",
        "    \n",
        "    # Clicar para gerar o áudio\n",
        "    pyautogui.moveTo(850, 540, duration=0.2)\n",
        "    time.sleep(0.1)\n",
        "    pyautogui.click(button='left')\n",
        "    time.sleep(4)\n",
        "    \n",
        "    pyautogui.moveTo(850, 400, duration=0.2)\n",
        "    time.sleep(0.1)\n",
        "    pyautogui.click(button='left')\n",
        "    time.sleep(1.5)\n",
        "    \n",
        "    #i+=1\n"
      ]
    }
  ],
  "metadata": {
    "kernelspec": {
      "display_name": "Python 3 (ipykernel)",
      "language": "python",
      "name": "python3"
    },
    "language_info": {
      "codemirror_mode": {
        "name": "ipython",
        "version": 3
      },
      "file_extension": ".py",
      "mimetype": "text/x-python",
      "name": "python",
      "nbconvert_exporter": "python",
      "pygments_lexer": "ipython3",
      "version": "3.9.13"
    },
    "colab": {
      "provenance": [],
      "include_colab_link": true
    }
  },
  "nbformat": 4,
  "nbformat_minor": 5
}