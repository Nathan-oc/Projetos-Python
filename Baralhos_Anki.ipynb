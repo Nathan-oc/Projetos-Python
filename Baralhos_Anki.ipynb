{
  "cells": [
    {
      "cell_type": "markdown",
      "metadata": {
        "id": "view-in-github",
        "colab_type": "text"
      },
      "source": [
        "<a href=\"https://colab.research.google.com/github/Nathan-oc/Projetos-Python/blob/main/Baralhos_Anki.ipynb\" target=\"_parent\"><img src=\"https://colab.research.google.com/assets/colab-badge.svg\" alt=\"Open In Colab\"/></a>"
      ]
    },
    {
      "cell_type": "markdown",
      "metadata": {
        "id": "AMh7VWYHjP_s"
      },
      "source": [
        "# Introdução\n",
        "\n",
        "O objetivo deste projeto é criar um programa em Python capaz de gerar um baralho de flashcards contendo frases em inglês e suas respectivas traduções para o português. Antes de explicarmos como o programa funciona, vamos entender o que são flashcards e como eles podem ser úteis no processo de aprendizagem.\n",
        "\n",
        "Um flashcard é um cartão com informações úteis que podem ser usadas para estudo ou memorização. Na maioria das vezes, os flashcards contêm perguntas em um lado e respostas no outro, mas eles também podem ser usados para memorizar outras informações, como fórmulas matemáticas, vocabulário de idiomas, datas históricas e muito mais.\n",
        "\n",
        "O principal objetivo do uso de flashcards é ajudar a memorizar informações importantes. Eles são frequentemente usados por estudantes que querem aprender um novo idioma, por exemplo. Ao criar flashcards com palavras em inglês e suas traduções para o português, é possível treinar a memória visual e a associação entre as palavras em ambos os idiomas.\n",
        "\n",
        "O programa que estamos desenvolvendo é capaz de buscar frases em inglês e suas traduções para o português em um dicionário online e adicioná-las em um baralho de flashcards. Isso significa que o usuário não precisa gastar tempo procurando frases adequadas e traduções precisas - o programa faz isso automaticamente.\n",
        "\n",
        "Para buscar as frases em inglês e suas traduções para o português, nosso programa utiliza o site wordreference.com, que é um dicionário online confiável e muito utilizado por estudantes de línguas estrangeiras. O wordreference.com possui uma grande base de dados de frases em inglês, com suas traduções correspondentes em português, o que torna o processo de busca e coleta de informações mais fácil e eficiente. Isso significa que o programa pode buscar as informações necessárias com rapidez e precisão, e assim criar os flashcards com as frases corretas e suas traduções correspondentes.\n",
        "\n",
        "Nos próximos passos, explicaremos como o programa funciona e como ele pode ser usado para criar baralhos de flashcards personalizados com frases em inglês e português."
      ]
    },
    {
      "cell_type": "markdown",
      "metadata": {
        "id": "pArUBxf3R03O"
      },
      "source": [
        "# Importação de Bibliotecas\n",
        "\n",
        "Para este projeto em particular, vamos precisar das bibliotecas `selenium`, `genanki` e `pandas`.\n",
        "\n",
        "A biblioteca `selenium` é usada para automatizar a navegação na web, permitindo a interação com sites da mesma forma que um usuário faria. Já a biblioteca `genanki` é usada para criar um arquivo Anki com os flashcards que serão gerados pelo programa. Por fim, a biblioteca `pandas` é usada para manipulação de dados, permitindo que o programa leia e armazene as palavras em inglês em um formato estruturado."
      ]
    },
    {
      "cell_type": "code",
      "execution_count": null,
      "metadata": {
        "id": "9rPxLf28XiKH"
      },
      "outputs": [],
      "source": [
        "from selenium.webdriver.common.by import By\n",
        "from selenium import webdriver\n",
        "import genanki\n",
        "import pandas as pd"
      ]
    },
    {
      "cell_type": "code",
      "execution_count": null,
      "metadata": {
        "id": "LwKSW8xSaW3C"
      },
      "outputs": [],
      "source": [
        "#sys.path.insert(0,'/usr/lib/chromium-browser/chromedriver')\n",
        "\n",
        "chrome_options = webdriver.ChromeOptions()\n",
        "chrome_options.add_argument('--headless')\n",
        "chrome_options.add_argument('--no-sandbox')\n",
        "chrome_options.add_argument('--disable-dev-shm-usage')\n",
        "driver = webdriver.Chrome('chromedriver', options = chrome_options)"
      ]
    },
    {
      "cell_type": "markdown",
      "metadata": {
        "id": "xWdV5-elR34B"
      },
      "source": [
        "# Definição de funções\n",
        "\n",
        "Nesta seção, vamos explicar cada uma das funções desenvolvidas neste projeto em Python para a criação de um baralho dos flashcards.\n",
        "\n",
        "\n",
        "\n",
        "* `trad_wr`: Essa função recebe como entrada uma palavra em inglês e utiliza a biblioteca Selenium para realizar uma busca no site WordReference. Em seguida, ela coleta as frases em inglês e suas respectivas traduções para o português e retorna duas listas: uma contendo as frases em inglês e outra contendo as traduções em português correspondentes.\n",
        "\n",
        "* `add_cards`: Essa função recebe como entrada um objeto de deck do Genanki, uma lista contendo as frases em inglês e outra lista contendo as respectivas traduções em português, geradas pela função `trad_wr()`. Para cada frase em inglês e sua respectiva tradução, a função gera um card e adiciona ao deck.\n",
        "\n",
        "* `lista_palavras`: Essa função é responsável por criar um loop que recebe palavras em inglês do usuário até que ele digite um valor para parar o loop (por exemplo, 0). Essa função retorna uma lista com as palavras inseridas pelo usuário.\n",
        "\n",
        "* `baralho_ENPT`: Essa função é responsável por criar um objeto de deck do Genanki e para cada palavra da lista gerada pela função `lista_palavras()`, ela chama as funções `trad_wr()` e `add_cards()` para gerar e adicionar cards ao deck. Por fim, ela gera um arquivo em formato .apkg contendo o baralho criado.\n",
        "\n",
        "* `main()`: Essa função é a função principal do projeto. Ela chama a função `lista_palavras()` para gerar a lista de palavras em inglês a serem adicionadas ao baralho, e em seguida chama a função `baralho_ENPT()` para criar o baralho de flashcards."
      ]
    },
    {
      "cell_type": "code",
      "execution_count": null,
      "metadata": {
        "id": "6Uljn-M2Xnoy"
      },
      "outputs": [],
      "source": [
        "def trad_wr(palavra):\n",
        "  \n",
        "  # Entra na url a partir da palavra pesquisada\n",
        "  pal = str(palavra)\n",
        "  url = 'https://www.wordreference.com/enpt/' + pal\n",
        "  driver.get(url)\n",
        "\n",
        "  # Gera objetos que contém as frases\n",
        "  frases = driver.find_elements(By.XPATH, '//td[@class=\"FrEx\"]')\n",
        "  traducao = driver.find_elements(By.XPATH, '//td[@class=\"ToEx\"]')\n",
        "    \n",
        "  frases_lista = []\n",
        "  traducao_lista = []\n",
        "  \n",
        "  f, t = len(frases), len(traducao)\n",
        "\n",
        "  # Lista para adicionar as strings das frases em inglês e suas traduções\n",
        "  strings = []\n",
        "  # Lista binária, onde 0: frase inglês e 1: traduçao para o português\n",
        "  lista = []\n",
        "  # Lista que guarda a coordenada y da string na página web\n",
        "  coord_y = []\n",
        "\n",
        "  # Para cada frase do inglês adiciona suas informações às listas já deifinidas\n",
        "  for i in range(f):\n",
        "    strings.append(frases[i].text)\n",
        "    lista.append(0)\n",
        "    coord_y.append(frases[i].location['y'])\n",
        "\n",
        "  # Para cada tradução adiciona as informações às listas\n",
        "  for i in range(t):  \n",
        "    strings.append(traducao[i].text)\n",
        "    lista.append(1)\n",
        "    coord_y.append(traducao[i].location['y'])\n",
        "\n",
        "  # Gera um dataframe que contém as informações das frases\n",
        "  data = {'string': strings, 'lista': lista, 'y': coord_y}\n",
        "  df = pd.DataFrame(data)\n",
        "  \n",
        "  # Reordena as linhas do dataframe baseado na localização vertical da string na página web\n",
        "  df = df.sort_values(['y'], ascending = True)\n",
        "  df = df.reset_index(drop=True)\n",
        "\n",
        "  # Adiciona às listas de frases e traduções apenas o par de strings que possuem a sequência frase->tradução\n",
        "  for i in df.loc[df['lista'].diff()==1].index:\n",
        "    frases_lista.append(df.loc[i - 1, 'string'])\n",
        "    traducao_lista.append(df.loc[i, 'string'])\n",
        " \n",
        "  return frases_lista, traducao_lista\n",
        "\n",
        "\n",
        "def add_cards(deck, frases_lista, traducao_lista):\n",
        "    \n",
        "  # Gera um modelo de flashcard\n",
        "  modelo = genanki.Model(\n",
        "  1236326257,\n",
        "  'Simples',\n",
        "  fields=[\n",
        "    {'name': 'Question'},\n",
        "    {'name': 'Answer'},\n",
        "  ],\n",
        "  templates=[\n",
        "    {\n",
        "      'name': 'Card 1',\n",
        "      'qfmt': '{{Question}}',\n",
        "      'afmt': '{{FrontSide}}<hr id=\"answer\">{{Answer}}',\n",
        "    },\n",
        "  ])\n",
        "\n",
        "\n",
        "  # Adiciona um card ao baralho para cada par (frase,tradução)\n",
        "  for i in range(len(frases_lista)):\n",
        "    \n",
        "    frase = str(frases_lista[i])\n",
        "    traducao = str(traducao_lista[i])\n",
        "    \n",
        "    card = genanki.Note(\n",
        "    model=modelo,\n",
        "    fields=[frase, traducao])\n",
        "    \n",
        "    deck.add_note(card)\n",
        "\n",
        "\n",
        "\n",
        "def baralho_ENPT(lista_palavras):\n",
        "\n",
        "  # Gera um baralho\n",
        "  baralho = genanki.Deck(\n",
        "  1462467949,\n",
        "  'EN-PT')  \n",
        "\n",
        "  # Adiciona todas as cartas geradas ao deck, baseado na lista de palavras \n",
        "  for palavra in lista_palavras:\n",
        "    frases_lista, traducao_lista = trad_wr(palavra)\n",
        "    add_cards(baralho, frases_lista, traducao_lista)\n",
        "\n",
        "  genanki.Package(baralho).write_to_file('EN-PT.apkg')\n",
        "\n",
        "\n",
        "def lista_palavras():\n",
        "\n",
        "  lista_palavras = []\n",
        "  palavra = str(input(\"Palavra (Digite 0 para pausar): \"))\n",
        "  \n",
        "  while palavra != '0':\n",
        "    lista_palavras.append(palavra)\n",
        "    palavra = str(input(\"Palavra (Digite 0 para pausar): \"))\n",
        "\n",
        "  return lista_palavras\n",
        "\n",
        "\n",
        "def main():\n",
        "\n",
        "  lista = lista_palavras()\n",
        "  baralho_ENPT(lista)"
      ]
    },
    {
      "cell_type": "markdown",
      "metadata": {
        "id": "b9GzIKaHc1kA"
      },
      "source": [
        "# Execução Função Main"
      ]
    },
    {
      "cell_type": "code",
      "execution_count": null,
      "metadata": {
        "colab": {
          "base_uri": "https://localhost:8080/",
          "height": 86
        },
        "id": "2q2dEaDVge5r",
        "outputId": "fd504e58-7190-4e32-d15c-8560268c7901"
      },
      "outputs": [
        {
          "name": "stdin",
          "output_type": "stream",
          "text": [
            "Palavra (Digite 0 para pausar):  data\n",
            "Palavra (Digite 0 para pausar):  science\n",
            "Palavra (Digite 0 para pausar):  analysis\n",
            "Palavra (Digite 0 para pausar):  0\n"
          ]
        }
      ],
      "source": [
        "main()"
      ]
    }
  ],
  "metadata": {
    "colab": {
      "provenance": [],
      "include_colab_link": true
    },
    "kernelspec": {
      "display_name": "Python 3 (ipykernel)",
      "language": "python",
      "name": "python3"
    },
    "language_info": {
      "codemirror_mode": {
        "name": "ipython",
        "version": 3
      },
      "file_extension": ".py",
      "mimetype": "text/x-python",
      "name": "python",
      "nbconvert_exporter": "python",
      "pygments_lexer": "ipython3",
      "version": "3.9.13"
    }
  },
  "nbformat": 4,
  "nbformat_minor": 0
}