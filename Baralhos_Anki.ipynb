{
  "cells": [
    {
      "cell_type": "markdown",
      "metadata": {
        "id": "view-in-github",
        "colab_type": "text"
      },
      "source": [
        "<a href=\"https://colab.research.google.com/github/Nathan-oc/Projetos-Python/blob/main/Baralhos_Anki.ipynb\" target=\"_parent\"><img src=\"https://colab.research.google.com/assets/colab-badge.svg\" alt=\"Open In Colab\"/></a>"
      ]
    },
    {
      "cell_type": "markdown",
      "source": [
        "# Introdução\n",
        "\n",
        "O objetivo deste projeto é criar um programa em Python capaz de gerar um baralho de flashcards contendo frases em inglês e suas respectivas traduções para o português. Antes de explicarmos como o programa funciona, vamos entender o que são flashcards e como eles podem ser úteis no processo de aprendizagem.\n",
        "\n",
        "Um flashcard é um cartão com informações úteis que podem ser usadas para estudo ou memorização. Na maioria das vezes, os flashcards contêm perguntas em um lado e respostas no outro, mas eles também podem ser usados para memorizar outras informações, como fórmulas matemáticas, vocabulário de idiomas, datas históricas e muito mais.\n",
        "\n",
        "O principal objetivo do uso de flashcards é ajudar a memorizar informações importantes. Eles são frequentemente usados por estudantes que querem aprender um novo idioma, por exemplo. Ao criar flashcards com palavras em inglês e suas traduções para o português, é possível treinar a memória visual e a associação entre as palavras em ambos os idiomas.\n",
        "\n",
        "O programa que estamos desenvolvendo é capaz de buscar frases em inglês e suas traduções para o português em um dicionário online e adicioná-las em um baralho de flashcards. Isso significa que o usuário não precisa gastar tempo procurando frases adequadas e traduções precisas - o programa faz isso automaticamente.\n",
        "\n",
        "Para buscar as frases em inglês e suas traduções para o português, nosso programa utiliza o site wordreference.com, que é um dicionário online confiável e muito utilizado por estudantes de línguas estrangeiras. O wordreference.com possui uma grande base de dados de frases em inglês, com suas traduções correspondentes em português, o que torna o processo de busca e coleta de informações mais fácil e eficiente. Isso significa que o programa pode buscar as informações necessárias com rapidez e precisão, e assim criar os flashcards com as frases corretas e suas traduções correspondentes.\n",
        "\n",
        "Nos próximos passos, explicaremos como o programa funciona e como ele pode ser usado para criar baralhos de flashcards personalizados com frases em inglês e português."
      ],
      "metadata": {
        "id": "AMh7VWYHjP_s"
      }
    },
    {
      "cell_type": "markdown",
      "metadata": {
        "id": "MOaLgmKCRuzG"
      },
      "source": [
        "# Instalação de bibiotecas e Configurações"
      ]
    },
    {
      "cell_type": "code",
      "execution_count": null,
      "metadata": {
        "colab": {
          "base_uri": "https://localhost:8080/"
        },
        "id": "2CnGgxh2Abaa",
        "outputId": "e5c2b058-099e-4a5a-a611-072ba000dfe8"
      },
      "outputs": [
        {
          "name": "stdout",
          "output_type": "stream",
          "text": [
            "Reading package lists... Done\n",
            "Building dependency tree       \n",
            "Reading state information... Done\n",
            "The following additional packages will be installed:\n",
            "  apparmor chromium-browser liblzo2-2 snapd squashfs-tools\n",
            "Suggested packages:\n",
            "  apparmor-profiles-extra apparmor-utils\n",
            "The following NEW packages will be installed:\n",
            "  apparmor chromium-browser chromium-chromedriver liblzo2-2 snapd\n",
            "  squashfs-tools\n",
            "0 upgraded, 6 newly installed, 0 to remove and 23 not upgraded.\n",
            "Need to get 38.4 MB of archives.\n",
            "After this operation, 173 MB of additional disk space will be used.\n",
            "Get:1 http://archive.ubuntu.com/ubuntu focal-updates/main amd64 apparmor amd64 2.13.3-7ubuntu5.1 [494 kB]\n",
            "Get:2 http://archive.ubuntu.com/ubuntu focal/main amd64 liblzo2-2 amd64 2.10-2 [50.8 kB]\n",
            "Get:3 http://archive.ubuntu.com/ubuntu focal-updates/main amd64 squashfs-tools amd64 1:4.4-1ubuntu0.3 [117 kB]\n",
            "Get:4 http://archive.ubuntu.com/ubuntu focal-updates/main amd64 snapd amd64 2.57.5+20.04ubuntu0.1 [37.6 MB]\n",
            "Get:5 http://archive.ubuntu.com/ubuntu focal-updates/universe amd64 chromium-browser amd64 1:85.0.4183.83-0ubuntu0.20.04.2 [48.3 kB]\n",
            "Get:6 http://archive.ubuntu.com/ubuntu focal-updates/universe amd64 chromium-chromedriver amd64 1:85.0.4183.83-0ubuntu0.20.04.2 [2,496 B]\n",
            "Fetched 38.4 MB in 4s (10.7 MB/s)\n",
            "debconf: unable to initialize frontend: Dialog\n",
            "debconf: (No usable dialog-like program is installed, so the dialog based frontend cannot be used. at /usr/share/perl5/Debconf/FrontEnd/Dialog.pm line 76, <> line 6.)\n",
            "debconf: falling back to frontend: Readline\n",
            "debconf: unable to initialize frontend: Readline\n",
            "debconf: (This frontend requires a controlling tty.)\n",
            "debconf: falling back to frontend: Teletype\n",
            "dpkg-preconfigure: unable to re-open stdin: \n",
            "Selecting previously unselected package apparmor.\n",
            "(Reading database ... 129504 files and directories currently installed.)\n",
            "Preparing to unpack .../apparmor_2.13.3-7ubuntu5.1_amd64.deb ...\n",
            "Unpacking apparmor (2.13.3-7ubuntu5.1) ...\n",
            "Selecting previously unselected package liblzo2-2:amd64.\n",
            "Preparing to unpack .../liblzo2-2_2.10-2_amd64.deb ...\n",
            "Unpacking liblzo2-2:amd64 (2.10-2) ...\n",
            "Selecting previously unselected package squashfs-tools.\n",
            "Preparing to unpack .../squashfs-tools_1%3a4.4-1ubuntu0.3_amd64.deb ...\n",
            "Unpacking squashfs-tools (1:4.4-1ubuntu0.3) ...\n",
            "Selecting previously unselected package snapd.\n",
            "Preparing to unpack .../snapd_2.57.5+20.04ubuntu0.1_amd64.deb ...\n",
            "Unpacking snapd (2.57.5+20.04ubuntu0.1) ...\n",
            "Setting up apparmor (2.13.3-7ubuntu5.1) ...\n",
            "debconf: unable to initialize frontend: Dialog\n",
            "debconf: (No usable dialog-like program is installed, so the dialog based frontend cannot be used. at /usr/share/perl5/Debconf/FrontEnd/Dialog.pm line 76.)\n",
            "debconf: falling back to frontend: Readline\n",
            "Created symlink /etc/systemd/system/sysinit.target.wants/apparmor.service → /lib/systemd/system/apparmor.service.\n",
            "Setting up liblzo2-2:amd64 (2.10-2) ...\n",
            "Setting up squashfs-tools (1:4.4-1ubuntu0.3) ...\n",
            "Setting up snapd (2.57.5+20.04ubuntu0.1) ...\n",
            "Created symlink /etc/systemd/system/multi-user.target.wants/snapd.aa-prompt-listener.service → /lib/systemd/system/snapd.aa-prompt-listener.service.\n",
            "Created symlink /etc/systemd/system/multi-user.target.wants/snapd.apparmor.service → /lib/systemd/system/snapd.apparmor.service.\n",
            "Created symlink /etc/systemd/system/multi-user.target.wants/snapd.autoimport.service → /lib/systemd/system/snapd.autoimport.service.\n",
            "Created symlink /etc/systemd/system/multi-user.target.wants/snapd.core-fixup.service → /lib/systemd/system/snapd.core-fixup.service.\n",
            "Created symlink /etc/systemd/system/multi-user.target.wants/snapd.recovery-chooser-trigger.service → /lib/systemd/system/snapd.recovery-chooser-trigger.service.\n",
            "Created symlink /etc/systemd/system/multi-user.target.wants/snapd.seeded.service → /lib/systemd/system/snapd.seeded.service.\n",
            "Created symlink /etc/systemd/system/cloud-final.service.wants/snapd.seeded.service → /lib/systemd/system/snapd.seeded.service.\n",
            "Created symlink /etc/systemd/system/multi-user.target.wants/snapd.service → /lib/systemd/system/snapd.service.\n",
            "Created symlink /etc/systemd/system/timers.target.wants/snapd.snap-repair.timer → /lib/systemd/system/snapd.snap-repair.timer.\n",
            "Created symlink /etc/systemd/system/sockets.target.wants/snapd.socket → /lib/systemd/system/snapd.socket.\n",
            "Created symlink /etc/systemd/system/final.target.wants/snapd.system-shutdown.service → /lib/systemd/system/snapd.system-shutdown.service.\n",
            "Selecting previously unselected package chromium-browser.\n",
            "(Reading database ... 129794 files and directories currently installed.)\n",
            "Preparing to unpack .../chromium-browser_1%3a85.0.4183.83-0ubuntu0.20.04.2_amd64.deb ...\n",
            "debconf: unable to initialize frontend: Dialog\n",
            "debconf: (No usable dialog-like program is installed, so the dialog based frontend cannot be used. at /usr/share/perl5/Debconf/FrontEnd/Dialog.pm line 76.)\n",
            "debconf: falling back to frontend: Readline\n",
            "=> Installing the chromium snap\n",
            "==> Checking connectivity with the snap store\n",
            "===> System doesn't have a working snapd, skipping\n",
            "Unpacking chromium-browser (1:85.0.4183.83-0ubuntu0.20.04.2) ...\n",
            "Selecting previously unselected package chromium-chromedriver.\n",
            "Preparing to unpack .../chromium-chromedriver_1%3a85.0.4183.83-0ubuntu0.20.04.2_amd64.deb ...\n",
            "Unpacking chromium-chromedriver (1:85.0.4183.83-0ubuntu0.20.04.2) ...\n",
            "Setting up chromium-browser (1:85.0.4183.83-0ubuntu0.20.04.2) ...\n",
            "update-alternatives: using /usr/bin/chromium-browser to provide /usr/bin/x-www-browser (x-www-browser) in auto mode\n",
            "update-alternatives: using /usr/bin/chromium-browser to provide /usr/bin/gnome-www-browser (gnome-www-browser) in auto mode\n",
            "Setting up chromium-chromedriver (1:85.0.4183.83-0ubuntu0.20.04.2) ...\n",
            "Processing triggers for mime-support (3.64ubuntu1) ...\n",
            "Processing triggers for hicolor-icon-theme (0.17-2) ...\n",
            "Processing triggers for libc-bin (2.31-0ubuntu9.9) ...\n",
            "Processing triggers for systemd (245.4-4ubuntu3.19) ...\n",
            "Processing triggers for man-db (2.9.1-1) ...\n",
            "Processing triggers for dbus (1.12.16-2ubuntu2.3) ...\n"
          ]
        }
      ],
      "source": [
        "!sudo dpkg --configure -a\n",
        "!sudo apt-get install chromium-chromedriver\n"
      ]
    },
    {
      "cell_type": "code",
      "execution_count": null,
      "metadata": {
        "colab": {
          "base_uri": "https://localhost:8080/"
        },
        "id": "KLWuwSAS_elE",
        "outputId": "c09acd0a-341a-4d93-88cb-a9825282de52"
      },
      "outputs": [
        {
          "name": "stdout",
          "output_type": "stream",
          "text": [
            "Looking in indexes: https://pypi.org/simple, https://us-python.pkg.dev/colab-wheels/public/simple/\n",
            "Requirement already satisfied: Selenium in /usr/local/lib/python3.8/dist-packages (4.7.2)\n",
            "Requirement already satisfied: trio~=0.17 in /usr/local/lib/python3.8/dist-packages (from Selenium) (0.22.0)\n",
            "Requirement already satisfied: certifi>=2021.10.8 in /usr/local/lib/python3.8/dist-packages (from Selenium) (2022.12.7)\n",
            "Requirement already satisfied: trio-websocket~=0.9 in /usr/local/lib/python3.8/dist-packages (from Selenium) (0.9.2)\n",
            "Requirement already satisfied: urllib3[socks]~=1.26 in /usr/local/lib/python3.8/dist-packages (from Selenium) (1.26.14)\n",
            "Requirement already satisfied: outcome in /usr/local/lib/python3.8/dist-packages (from trio~=0.17->Selenium) (1.2.0)\n",
            "Requirement already satisfied: attrs>=19.2.0 in /usr/local/lib/python3.8/dist-packages (from trio~=0.17->Selenium) (22.2.0)\n",
            "Requirement already satisfied: idna in /usr/local/lib/python3.8/dist-packages (from trio~=0.17->Selenium) (2.10)\n",
            "Requirement already satisfied: exceptiongroup>=1.0.0rc9 in /usr/local/lib/python3.8/dist-packages (from trio~=0.17->Selenium) (1.1.0)\n",
            "Requirement already satisfied: sniffio in /usr/local/lib/python3.8/dist-packages (from trio~=0.17->Selenium) (1.3.0)\n",
            "Requirement already satisfied: async-generator>=1.9 in /usr/local/lib/python3.8/dist-packages (from trio~=0.17->Selenium) (1.10)\n",
            "Requirement already satisfied: sortedcontainers in /usr/local/lib/python3.8/dist-packages (from trio~=0.17->Selenium) (2.4.0)\n",
            "Requirement already satisfied: wsproto>=0.14 in /usr/local/lib/python3.8/dist-packages (from trio-websocket~=0.9->Selenium) (1.2.0)\n",
            "Requirement already satisfied: PySocks!=1.5.7,<2.0,>=1.5.6 in /usr/local/lib/python3.8/dist-packages (from urllib3[socks]~=1.26->Selenium) (1.7.1)\n",
            "Requirement already satisfied: h11<1,>=0.9.0 in /usr/local/lib/python3.8/dist-packages (from wsproto>=0.14->trio-websocket~=0.9->Selenium) (0.14.0)\n",
            "Hit:1 https://cloud.r-project.org/bin/linux/ubuntu focal-cran40/ InRelease\n",
            "Ign:2 https://developer.download.nvidia.com/compute/machine-learning/repos/ubuntu2004/x86_64  InRelease\n",
            "Hit:3 https://developer.download.nvidia.com/compute/cuda/repos/ubuntu2004/x86_64  InRelease\n",
            "Hit:4 https://developer.download.nvidia.com/compute/machine-learning/repos/ubuntu2004/x86_64  Release\n",
            "Hit:5 http://archive.ubuntu.com/ubuntu focal InRelease\n",
            "Hit:6 http://ppa.launchpad.net/c2d4u.team/c2d4u4.0+/ubuntu focal InRelease\n",
            "Hit:7 http://archive.ubuntu.com/ubuntu focal-updates InRelease\n",
            "Hit:8 http://archive.ubuntu.com/ubuntu focal-backports InRelease\n",
            "Hit:9 http://security.ubuntu.com/ubuntu focal-security InRelease\n",
            "Hit:10 http://ppa.launchpad.net/cran/libgit2/ubuntu focal InRelease\n",
            "Hit:11 http://ppa.launchpad.net/deadsnakes/ppa/ubuntu focal InRelease\n",
            "Hit:13 http://ppa.launchpad.net/graphics-drivers/ppa/ubuntu focal InRelease\n",
            "Reading package lists... Done\n",
            "Reading package lists... Done\n",
            "Building dependency tree       \n",
            "Reading state information... Done\n",
            "chromium-chromedriver is already the newest version (1:85.0.4183.83-0ubuntu0.20.04.2).\n",
            "0 upgraded, 0 newly installed, 0 to remove and 25 not upgraded.\n",
            "cp: '/usr/lib/chromium-browser/chromedriver' and '/usr/bin/chromedriver' are the same file\n",
            "Looking in indexes: https://pypi.org/simple, https://us-python.pkg.dev/colab-wheels/public/simple/\n",
            "Requirement already satisfied: genanki in /usr/local/lib/python3.8/dist-packages (0.13.0)\n",
            "Requirement already satisfied: chevron in /usr/local/lib/python3.8/dist-packages (from genanki) (0.14.0)\n",
            "Requirement already satisfied: cached-property in /usr/local/lib/python3.8/dist-packages (from genanki) (1.5.2)\n",
            "Requirement already satisfied: pyyaml in /usr/local/lib/python3.8/dist-packages (from genanki) (6.0)\n",
            "Requirement already satisfied: frozendict in /usr/local/lib/python3.8/dist-packages (from genanki) (2.3.4)\n"
          ]
        }
      ],
      "source": [
        "!pip install Selenium\n",
        "!apt-get update # to update ubuntu to correctly run apt install\n",
        "!apt install chromium-chromedriver\n",
        "!cp /usr/lib/chromium-browser/chromedriver /usr/bin\n",
        "!pip install genanki"
      ]
    },
    {
      "cell_type": "markdown",
      "metadata": {
        "id": "pArUBxf3R03O"
      },
      "source": [
        "# Importação de Bibliotecas\n",
        "\n",
        "Para este projeto em particular, vamos precisar das bibliotecas `selenium`, `genanki` e `pandas`.\n",
        "\n",
        "A biblioteca `selenium` é usada para automatizar a navegação na web, permitindo a interação com sites da mesma forma que um usuário faria. Já a biblioteca `genanki` é usada para criar um arquivo Anki com os flashcards que serão gerados pelo programa. Por fim, a biblioteca `pandas` é usada para manipulação de dados, permitindo que o programa leia e armazene as palavras em inglês em um formato estruturado."
      ]
    },
    {
      "cell_type": "code",
      "execution_count": null,
      "metadata": {
        "id": "9rPxLf28XiKH"
      },
      "outputs": [],
      "source": [
        "from selenium.webdriver.common.by import By\n",
        "from selenium import webdriver\n",
        "import genanki\n",
        "import pandas as pd"
      ]
    },
    {
      "cell_type": "code",
      "execution_count": null,
      "metadata": {
        "id": "LwKSW8xSaW3C"
      },
      "outputs": [],
      "source": [
        "#sys.path.insert(0,'/usr/lib/chromium-browser/chromedriver')\n",
        "\n",
        "chrome_options = webdriver.ChromeOptions()\n",
        "chrome_options.add_argument('--headless')\n",
        "chrome_options.add_argument('--no-sandbox')\n",
        "chrome_options.add_argument('--disable-dev-shm-usage')\n",
        "driver = webdriver.Chrome('chromedriver', options = chrome_options)"
      ]
    },
    {
      "cell_type": "markdown",
      "metadata": {
        "id": "xWdV5-elR34B"
      },
      "source": [
        "# Definição de funções\n",
        "\n",
        "Nesta seção, vamos explicar cada uma das funções desenvolvidas neste projeto em Python para a criação de um baralho dos flashcards.\n",
        "\n",
        "\n",
        "\n",
        "* `trad_wr`: Essa função recebe como entrada uma palavra em inglês e utiliza a biblioteca Selenium para realizar uma busca no site WordReference. Em seguida, ela coleta as frases em inglês e suas respectivas traduções para o português e retorna duas listas: uma contendo as frases em inglês e outra contendo as traduções em português correspondentes.\n",
        "\n",
        "* `add_cards`: Essa função recebe como entrada um objeto de deck do Genanki, uma lista contendo as frases em inglês e outra lista contendo as respectivas traduções em português, geradas pela função `trad_wr()`. Para cada frase em inglês e sua respectiva tradução, a função gera um card e adiciona ao deck.\n",
        "\n",
        "* `lista_palavras`: Essa função é responsável por criar um loop que recebe palavras em inglês do usuário até que ele digite um valor para parar o loop (por exemplo, 0). Essa função retorna uma lista com as palavras inseridas pelo usuário.\n",
        "\n",
        "* `baralho_ENPT`: Essa função é responsável por criar um objeto de deck do Genanki e para cada palavra da lista gerada pela função `lista_palavras()`, ela chama as funções `trad_wr()` e `add_cards()` para gerar e adicionar cards ao deck. Por fim, ela gera um arquivo em formato .apkg contendo o baralho criado.\n",
        "\n",
        "* `main()`: Essa função é a função principal do projeto. Ela chama a função `lista_palavras()` para gerar a lista de palavras em inglês a serem adicionadas ao baralho, e em seguida chama a função `baralho_ENPT()` para criar o baralho de flashcards."
      ]
    },
    {
      "cell_type": "code",
      "execution_count": 2,
      "metadata": {
        "id": "6Uljn-M2Xnoy"
      },
      "outputs": [],
      "source": [
        "def trad_wr(palavra):\n",
        "  \n",
        "  # Entra na url a partir da palavra pesquisada\n",
        "  pal = str(palavra)\n",
        "  url = 'https://www.wordreference.com/enpt/' + pal\n",
        "  driver.get(url)\n",
        "\n",
        "  # Gera objetos que contém as frases\n",
        "  frases = driver.find_elements(By.XPATH, '//td[@class=\"FrEx\"]')\n",
        "  traducao = driver.find_elements(By.XPATH, '//td[@class=\"ToEx\"]')\n",
        "    \n",
        "  frases_lista = []\n",
        "  traducao_lista = []\n",
        "  \n",
        "  f, t = len(frases), len(traducao)\n",
        "\n",
        "  # Lista para adicionar as strings das frases em inglês e suas traduções\n",
        "  strings = []\n",
        "  # Lista binária, onde 0: frase inglês e 1: traduçao para o português\n",
        "  lista = []\n",
        "  # Lista que guarda a coordenada y da string na página web\n",
        "  coord_y = []\n",
        "\n",
        "  # Para cada frase do inglês adiciona suas informações às listas já deifinidas\n",
        "  for i in range(f):\n",
        "    strings.append(frases[i].text)\n",
        "    lista.append(0)\n",
        "    coord_y.append(frases[i].location['y'])\n",
        "\n",
        "  # Para cada tradução adiciona as informações às listas\n",
        "  for i in range(t):  \n",
        "    strings.append(traducao[i].text)\n",
        "    lista.append(1)\n",
        "    coord_y.append(traducao[i].location['y'])\n",
        "\n",
        "  # Gera um dataframe que contém as informações das frases\n",
        "  data = {'string': strings, 'lista': lista, 'y': coord_y}\n",
        "  df = pd.DataFrame(data)\n",
        "  \n",
        "  # Reordena as linhas do dataframe baseado na localização vertical da string na página web\n",
        "  df = df.sort_values(['y'], ascending = True)\n",
        "  df = df.reset_index(drop=True)\n",
        "\n",
        "  # Adiciona às listas de frases e traduções apenas o par de strings que possuem a sequência frase->tradução\n",
        "  for i in df.loc[df['lista'].diff()==1].index:\n",
        "    frases_lista.append(df.loc[i - 1, 'string'])\n",
        "    traducao_lista.append(df.loc[i, 'string'])\n",
        " \n",
        "  return frases_lista, traducao_lista\n",
        "\n",
        "\n",
        "def add_cards(deck, frases_lista, traducao_lista):\n",
        "    \n",
        "  # Gera um modelo de flashcard\n",
        "  modelo = genanki.Model(\n",
        "  1236326257,\n",
        "  'Simples',\n",
        "  fields=[\n",
        "    {'name': 'Question'},\n",
        "    {'name': 'Answer'},\n",
        "  ],\n",
        "  templates=[\n",
        "    {\n",
        "      'name': 'Card 1',\n",
        "      'qfmt': '{{Question}}',\n",
        "      'afmt': '{{FrontSide}}<hr id=\"answer\">{{Answer}}',\n",
        "    },\n",
        "  ])\n",
        "\n",
        "\n",
        "  # Adiciona um card ao baralho para cada par (frase,tradução)\n",
        "  for i in range(len(frases_lista)):\n",
        "    \n",
        "    frase = str(frases_lista[i])\n",
        "    traducao = str(traducao_lista[i])\n",
        "    \n",
        "    card = genanki.Note(\n",
        "    model=modelo,\n",
        "    fields=[frase, traducao])\n",
        "    \n",
        "    deck.add_note(card)\n",
        "\n",
        "\n",
        "\n",
        "def baralho_ENPT(lista_palavras):\n",
        "\n",
        "  # Gera um baralho\n",
        "  baralho = genanki.Deck(\n",
        "  1462467949,\n",
        "  'EN-PT')  \n",
        "\n",
        "  # Adiciona todas as cartas geradas ao deck, baseado na lista de palavras \n",
        "  for palavra in lista_palavras:\n",
        "    frases_lista, traducao_lista = trad_wr(palavra)\n",
        "    add_cards(baralho, frases_lista, traducao_lista)\n",
        "\n",
        "  genanki.Package(baralho).write_to_file('EN-PT.apkg')\n",
        "\n",
        "\n",
        "def lista_palavras():\n",
        "\n",
        "  lista_palavras = []\n",
        "  palavra = str(input(\"Palavra (Digite 0 para pausar): \"))\n",
        "  \n",
        "  while palavra != '0':\n",
        "    lista_palavras.append(palavra)\n",
        "    palavra = str(input(\"Palavra (Digite 0 para pausar): \"))\n",
        "\n",
        "  return lista_palavras\n",
        "\n",
        "\n",
        "def main():\n",
        "\n",
        "  lista = lista_palavras()\n",
        "  baralho_ENPT(lista)"
      ]
    },
    {
      "cell_type": "markdown",
      "metadata": {
        "id": "b9GzIKaHc1kA"
      },
      "source": [
        "# Execução Função Main"
      ]
    },
    {
      "cell_type": "code",
      "execution_count": null,
      "metadata": {
        "colab": {
          "base_uri": "https://localhost:8080/",
          "height": 86
        },
        "id": "2q2dEaDVge5r",
        "outputId": "fd504e58-7190-4e32-d15c-8560268c7901"
      },
      "outputs": [
        {
          "name": "stdin",
          "output_type": "stream",
          "text": [
            "Palavra (Digite 0 para pausar):  path\n",
            "Palavra (Digite 0 para pausar):  main\n",
            "Palavra (Digite 0 para pausar):  0\n"
          ]
        }
      ],
      "source": [
        "main()"
      ]
    }
  ],
  "metadata": {
    "colab": {
      "provenance": [],
      "include_colab_link": true
    },
    "kernelspec": {
      "display_name": "Python 3 (ipykernel)",
      "language": "python",
      "name": "python3"
    },
    "language_info": {
      "codemirror_mode": {
        "name": "ipython",
        "version": 3
      },
      "file_extension": ".py",
      "mimetype": "text/x-python",
      "name": "python",
      "nbconvert_exporter": "python",
      "pygments_lexer": "ipython3",
      "version": "3.9.13"
    }
  },
  "nbformat": 4,
  "nbformat_minor": 0
}